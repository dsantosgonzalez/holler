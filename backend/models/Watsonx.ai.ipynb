{
 "cells": [
  {
   "cell_type": "code",
   "execution_count": 4,
   "id": "cb1eeff0",
   "metadata": {},
   "outputs": [
    {
     "name": "stdout",
     "output_type": "stream",
     "text": [
      "Defaulting to user installation because normal site-packages is not writeable\n",
      "Requirement already satisfied: ibm-watsonx-ai in c:\\users\\maris\\appdata\\local\\packages\\pythonsoftwarefoundation.python.3.12_qbz5n2kfra8p0\\localcache\\local-packages\\python312\\site-packages (1.1.20)\n",
      "Requirement already satisfied: requests in c:\\users\\maris\\appdata\\local\\packages\\pythonsoftwarefoundation.python.3.12_qbz5n2kfra8p0\\localcache\\local-packages\\python312\\site-packages (from ibm-watsonx-ai) (2.32.2)\n",
      "Requirement already satisfied: httpx in c:\\users\\maris\\appdata\\local\\packages\\pythonsoftwarefoundation.python.3.12_qbz5n2kfra8p0\\localcache\\local-packages\\python312\\site-packages (from ibm-watsonx-ai) (0.27.2)\n",
      "Requirement already satisfied: urllib3 in c:\\users\\maris\\appdata\\local\\packages\\pythonsoftwarefoundation.python.3.12_qbz5n2kfra8p0\\localcache\\local-packages\\python312\\site-packages (from ibm-watsonx-ai) (2.2.3)\n",
      "Requirement already satisfied: pandas<2.2.0,>=0.24.2 in c:\\users\\maris\\appdata\\local\\packages\\pythonsoftwarefoundation.python.3.12_qbz5n2kfra8p0\\localcache\\local-packages\\python312\\site-packages (from ibm-watsonx-ai) (2.1.4)\n",
      "Requirement already satisfied: certifi in c:\\users\\maris\\appdata\\local\\packages\\pythonsoftwarefoundation.python.3.12_qbz5n2kfra8p0\\localcache\\local-packages\\python312\\site-packages (from ibm-watsonx-ai) (2024.8.30)\n",
      "Requirement already satisfied: lomond in c:\\users\\maris\\appdata\\local\\packages\\pythonsoftwarefoundation.python.3.12_qbz5n2kfra8p0\\localcache\\local-packages\\python312\\site-packages (from ibm-watsonx-ai) (0.3.3)\n",
      "Requirement already satisfied: tabulate in c:\\users\\maris\\appdata\\local\\packages\\pythonsoftwarefoundation.python.3.12_qbz5n2kfra8p0\\localcache\\local-packages\\python312\\site-packages (from ibm-watsonx-ai) (0.9.0)\n",
      "Requirement already satisfied: packaging in c:\\users\\maris\\appdata\\local\\packages\\pythonsoftwarefoundation.python.3.12_qbz5n2kfra8p0\\localcache\\local-packages\\python312\\site-packages (from ibm-watsonx-ai) (24.1)\n",
      "Requirement already satisfied: ibm-cos-sdk<2.14.0,>=2.12.0 in c:\\users\\maris\\appdata\\local\\packages\\pythonsoftwarefoundation.python.3.12_qbz5n2kfra8p0\\localcache\\local-packages\\python312\\site-packages (from ibm-watsonx-ai) (2.13.6)\n",
      "Requirement already satisfied: importlib-metadata in c:\\users\\maris\\appdata\\local\\packages\\pythonsoftwarefoundation.python.3.12_qbz5n2kfra8p0\\localcache\\local-packages\\python312\\site-packages (from ibm-watsonx-ai) (8.5.0)\n",
      "Requirement already satisfied: ibm-cos-sdk-core==2.13.6 in c:\\users\\maris\\appdata\\local\\packages\\pythonsoftwarefoundation.python.3.12_qbz5n2kfra8p0\\localcache\\local-packages\\python312\\site-packages (from ibm-cos-sdk<2.14.0,>=2.12.0->ibm-watsonx-ai) (2.13.6)\n",
      "Requirement already satisfied: ibm-cos-sdk-s3transfer==2.13.6 in c:\\users\\maris\\appdata\\local\\packages\\pythonsoftwarefoundation.python.3.12_qbz5n2kfra8p0\\localcache\\local-packages\\python312\\site-packages (from ibm-cos-sdk<2.14.0,>=2.12.0->ibm-watsonx-ai) (2.13.6)\n",
      "Requirement already satisfied: jmespath<=1.0.1,>=0.10.0 in c:\\users\\maris\\appdata\\local\\packages\\pythonsoftwarefoundation.python.3.12_qbz5n2kfra8p0\\localcache\\local-packages\\python312\\site-packages (from ibm-cos-sdk<2.14.0,>=2.12.0->ibm-watsonx-ai) (1.0.1)\n",
      "Requirement already satisfied: python-dateutil<3.0.0,>=2.9.0 in c:\\users\\maris\\appdata\\local\\packages\\pythonsoftwarefoundation.python.3.12_qbz5n2kfra8p0\\localcache\\local-packages\\python312\\site-packages (from ibm-cos-sdk-core==2.13.6->ibm-cos-sdk<2.14.0,>=2.12.0->ibm-watsonx-ai) (2.9.0.post0)\n",
      "Requirement already satisfied: numpy<2,>=1.26.0 in c:\\users\\maris\\appdata\\local\\packages\\pythonsoftwarefoundation.python.3.12_qbz5n2kfra8p0\\localcache\\local-packages\\python312\\site-packages (from pandas<2.2.0,>=0.24.2->ibm-watsonx-ai) (1.26.4)\n",
      "Requirement already satisfied: pytz>=2020.1 in c:\\users\\maris\\appdata\\local\\packages\\pythonsoftwarefoundation.python.3.12_qbz5n2kfra8p0\\localcache\\local-packages\\python312\\site-packages (from pandas<2.2.0,>=0.24.2->ibm-watsonx-ai) (2024.2)\n",
      "Requirement already satisfied: tzdata>=2022.1 in c:\\users\\maris\\appdata\\local\\packages\\pythonsoftwarefoundation.python.3.12_qbz5n2kfra8p0\\localcache\\local-packages\\python312\\site-packages (from pandas<2.2.0,>=0.24.2->ibm-watsonx-ai) (2024.2)\n",
      "Requirement already satisfied: charset-normalizer<4,>=2 in c:\\users\\maris\\appdata\\local\\packages\\pythonsoftwarefoundation.python.3.12_qbz5n2kfra8p0\\localcache\\local-packages\\python312\\site-packages (from requests->ibm-watsonx-ai) (3.4.0)\n",
      "Requirement already satisfied: idna<4,>=2.5 in c:\\users\\maris\\appdata\\local\\packages\\pythonsoftwarefoundation.python.3.12_qbz5n2kfra8p0\\localcache\\local-packages\\python312\\site-packages (from requests->ibm-watsonx-ai) (3.10)\n",
      "Requirement already satisfied: anyio in c:\\users\\maris\\appdata\\local\\packages\\pythonsoftwarefoundation.python.3.12_qbz5n2kfra8p0\\localcache\\local-packages\\python312\\site-packages (from httpx->ibm-watsonx-ai) (4.6.2.post1)\n",
      "Requirement already satisfied: httpcore==1.* in c:\\users\\maris\\appdata\\local\\packages\\pythonsoftwarefoundation.python.3.12_qbz5n2kfra8p0\\localcache\\local-packages\\python312\\site-packages (from httpx->ibm-watsonx-ai) (1.0.6)\n",
      "Requirement already satisfied: sniffio in c:\\users\\maris\\appdata\\local\\packages\\pythonsoftwarefoundation.python.3.12_qbz5n2kfra8p0\\localcache\\local-packages\\python312\\site-packages (from httpx->ibm-watsonx-ai) (1.3.1)\n",
      "Requirement already satisfied: h11<0.15,>=0.13 in c:\\users\\maris\\appdata\\local\\packages\\pythonsoftwarefoundation.python.3.12_qbz5n2kfra8p0\\localcache\\local-packages\\python312\\site-packages (from httpcore==1.*->httpx->ibm-watsonx-ai) (0.14.0)\n",
      "Requirement already satisfied: zipp>=3.20 in c:\\users\\maris\\appdata\\local\\packages\\pythonsoftwarefoundation.python.3.12_qbz5n2kfra8p0\\localcache\\local-packages\\python312\\site-packages (from importlib-metadata->ibm-watsonx-ai) (3.20.2)\n",
      "Requirement already satisfied: six>=1.10.0 in c:\\users\\maris\\appdata\\local\\packages\\pythonsoftwarefoundation.python.3.12_qbz5n2kfra8p0\\localcache\\local-packages\\python312\\site-packages (from lomond->ibm-watsonx-ai) (1.16.0)\n",
      "Note: you may need to restart the kernel to use updated packages.\n"
     ]
    }
   ],
   "source": [
    "pip install ibm-watsonx-ai"
   ]
  },
  {
   "cell_type": "code",
   "execution_count": 5,
   "id": "f4669c15",
   "metadata": {},
   "outputs": [],
   "source": [
    "from ibm_watsonx_ai import APIClient\n",
    "from ibm_watsonx_ai import Credentials\n",
    "\n",
    "credentials = Credentials(\n",
    "                   url = \"https://us-south.ml.cloud.ibm.com\",\n",
    "                   api_key = \"SECRET KEY\"\n",
    "                  )\n",
    "\n",
    "client = APIClient(credentials)"
   ]
  },
  {
   "cell_type": "code",
   "execution_count": 6,
   "id": "fea6cc3f",
   "metadata": {},
   "outputs": [
    {
     "ename": "IndexError",
     "evalue": "list index out of range",
     "output_type": "error",
     "traceback": [
      "\u001b[1;31m---------------------------------------------------------------------------\u001b[0m",
      "\u001b[1;31mIndexError\u001b[0m                                Traceback (most recent call last)",
      "Cell \u001b[1;32mIn[6], line 32\u001b[0m\n\u001b[0;32m     28\u001b[0m     \u001b[38;5;28;01melse\u001b[39;00m:\n\u001b[0;32m     29\u001b[0m         \u001b[38;5;28;01mreturn\u001b[39;00m initResponse\n\u001b[1;32m---> 32\u001b[0m classifyPosting(sys\u001b[38;5;241m.\u001b[39margv[\u001b[38;5;241m1\u001b[39m],\u001b[43msys\u001b[49m\u001b[38;5;241;43m.\u001b[39;49m\u001b[43margv\u001b[49m\u001b[43m[\u001b[49m\u001b[38;5;241;43m2\u001b[39;49m\u001b[43m]\u001b[49m)\n",
      "\u001b[1;31mIndexError\u001b[0m: list index out of range"
     ]
    }
   ],
   "source": [
    "from ibm_watsonx_ai.foundation_models import ModelInference\n",
    "from PIL import Image\n",
    "import base64\n",
    "import io\n",
    "import sys\n",
    "\n",
    "def classifyPosting(userDescription,userImage):\n",
    "    model = ModelInference(\n",
    "    model_id = \"google/flan-t5-xxl\",\n",
    "    api_client = client,\n",
    "    project_id = \"da5f6514-2800-4dd3-8125-5b6dc1af22db\",\n",
    "    params = {\n",
    "        \"max_new_tokens\" : 100\n",
    "    }\n",
    "    )\n",
    "    \n",
    "    initPrompt = f\"The user is supposed to provide a description of the issue they are facing in regards to a hurricane. Is the issue they provided coherent to classify and interpret what the issue is. If it is, select only one of the categories to which this description pertains to, and only return the category it belongs to: downed power line, uprooted tree, flooding, fire, scattered debris, lightning. If it is not, only return 'no.' This is the description: {userDescription}\"\n",
    "    model.generate(prompt=initPrompt)\n",
    "    initResponse = model.generate_text(prompt=initPrompt)    \n",
    "    if (initResponse == 'no'):\n",
    "        imagePath = userImage\n",
    "        with open(imagePath, 'rb') as img_file:\n",
    "            imageBase64 = base64.b64encode(img_file.read()).decode('utf-8')\n",
    "            \n",
    "        imagePrompt =  \"select only one of the categories to which this image pertains to, and only return the category it belongs to: downed power line, uprooted tree, flooding, fire, scattered debris, lightning.\"\n",
    "        model.generate(prompt=imagePrompt, params={\"image\": imageBase64})\n",
    "        return model.generate_text(prompt=imagePrompt, params={\"image\": imageBase64})\n",
    "    else:\n",
    "        return initResponse\n",
    "\n",
    "\n",
    "classifyPosting(sys.argv[1],sys.argv[2])\n"
   ]
  },
  {
   "cell_type": "code",
   "execution_count": null,
   "id": "a6848175",
   "metadata": {},
   "outputs": [],
   "source": []
  },
  {
   "cell_type": "code",
   "execution_count": null,
   "id": "f78ab44b",
   "metadata": {},
   "outputs": [],
   "source": []
  }
 ],
 "metadata": {
  "kernelspec": {
   "display_name": "Python 3",
   "language": "python",
   "name": "python3"
  },
  "language_info": {
   "codemirror_mode": {
    "name": "ipython",
    "version": 3
   },
   "file_extension": ".py",
   "mimetype": "text/x-python",
   "name": "python",
   "nbconvert_exporter": "python",
   "pygments_lexer": "ipython3",
   "version": "3.12.7"
  }
 },
 "nbformat": 4,
 "nbformat_minor": 5
}
